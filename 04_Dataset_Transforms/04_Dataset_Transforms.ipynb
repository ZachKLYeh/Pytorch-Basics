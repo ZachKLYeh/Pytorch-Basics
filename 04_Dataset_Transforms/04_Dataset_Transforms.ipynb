{
 "cells": [
  {
   "cell_type": "code",
   "execution_count": 1,
   "metadata": {},
   "outputs": [],
   "source": [
    "import torch\n",
    "from torchvision import transforms #this contain composed transfrom\n",
    "from torch.utils.data import Dataset\n",
    "import numpy as np"
   ]
  },
  {
   "cell_type": "code",
   "execution_count": 146,
   "metadata": {},
   "outputs": [],
   "source": [
    "#Step0: Build a dataset that allow transfrom attubite\n",
    "\n",
    "class WineDataset(Dataset):\n",
    "    #here we add an attribute of transform, default state is None\n",
    "    def __init__(self, transform = None):\n",
    "        wine_numpy = np.loadtxt('wine.csv', delimiter = \",\", dtype = np.float32, skiprows = 1)\n",
    "        self.samples = wine_numpy.shape[0]\n",
    "        #extract the features and classes of dataset\n",
    "        self.wine_features = wine_numpy[:, 1:]\n",
    "        #in this case it must be [:, [0]] or it will not be a numpy array\n",
    "        self.wine_labels = wine_numpy[:, [0]]\n",
    "        #save transfrom as self variable, that can be used when getting items\n",
    "        self.transform = transform\n",
    "\n",
    "    def __getitem__(self, index):\n",
    "        item = self.wine_features[index], self.wine_labels[index]\n",
    "        #if transform is not None\n",
    "        if self.transform:\n",
    "            item = self.transform(item)\n",
    "        return item   \n",
    "\n",
    "    def __len__(self):\n",
    "        return self.samples"
   ]
  },
  {
   "cell_type": "code",
   "execution_count": 147,
   "metadata": {},
   "outputs": [],
   "source": [
    "#Step1:Customize our transfrom\n",
    "\n",
    "class TensorTransform:\n",
    "    def __call__(self, input):\n",
    "        #unpack the input\n",
    "        features, labels = input\n",
    "        #print(type(features))\n",
    "        return torch.from_numpy(features), torch.from_numpy(labels)\n",
    "\n",
    "\n",
    "class MulTransform:\n",
    "    #if the transform requires a value, you must specify in __init__()\n",
    "    def __init__(self, mul):\n",
    "        self.mul = mul\n",
    "\n",
    "    def __call__(self, input):\n",
    "        features, labels = input\n",
    "        features = features * self.mul\n",
    "        return features, labels\n",
    "\n",
    "#make a composed transfrom with two custimize transform       \n",
    "#remember to give mul attribute to MulTransform\n",
    "composed_transform = transforms.Compose([TensorTransform(), MulTransform(10)])\n"
   ]
  },
  {
   "cell_type": "code",
   "execution_count": 148,
   "metadata": {},
   "outputs": [
    {
     "name": "stdout",
     "output_type": "stream",
     "text": [
      "tensor([1.4230e+01, 1.7100e+00, 2.4300e+00, 1.5600e+01, 1.2700e+02, 2.8000e+00,\n",
      "        3.0600e+00, 2.8000e-01, 2.2900e+00, 5.6400e+00, 1.0400e+00, 3.9200e+00,\n",
      "        1.0650e+03])\n",
      "<class 'torch.Tensor'>\n",
      "tensor([1.4230e+02, 1.7100e+01, 2.4300e+01, 1.5600e+02, 1.2700e+03, 2.8000e+01,\n",
      "        3.0600e+01, 2.8000e+00, 2.2900e+01, 5.6400e+01, 1.0400e+01, 3.9200e+01,\n",
      "        1.0650e+04])\n",
      "<class 'torch.Tensor'>\n"
     ]
    }
   ],
   "source": [
    "#Step2:Vertify datatype\n",
    "\n",
    "dataset = WineDataset(transform = TensorTransform())\n",
    "feature, label = dataset[0]\n",
    "print(feature)\n",
    "print(type(feature))\n",
    "\n",
    "dataset = WineDataset(transform = composed_transform)\n",
    "feature, label = dataset[0]\n",
    "print(feature)\n",
    "print(type(feature))\n",
    "\n",
    "#Note: Two np arrays concatenate will become a tuple, in which any type of arrays can be concatenate\n",
    "#When packing and unpacking array pairs, make sure to operate a tensor of numpy rather than a tuple\n",
    "#Note: When extracting a line in np.array make sure to use [i] as indes rather than i\n",
    "#if you use i as a index, this return a list, if you use [i] as a index, this return an array"
   ]
  }
 ],
 "metadata": {
  "interpreter": {
   "hash": "1f34a5bbbef19218a9b3b6792145ecf26538ebcfc8a2962317f017efbbe40c8a"
  },
  "kernelspec": {
   "display_name": "Python 3.6.13 ('torchsegmentation': conda)",
   "language": "python",
   "name": "python3"
  },
  "language_info": {
   "codemirror_mode": {
    "name": "ipython",
    "version": 3
   },
   "file_extension": ".py",
   "mimetype": "text/x-python",
   "name": "python",
   "nbconvert_exporter": "python",
   "pygments_lexer": "ipython3",
   "version": "3.6.13"
  },
  "orig_nbformat": 4
 },
 "nbformat": 4,
 "nbformat_minor": 2
}
