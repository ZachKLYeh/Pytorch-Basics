{
 "cells": [
  {
   "cell_type": "code",
   "execution_count": 49,
   "metadata": {},
   "outputs": [],
   "source": [
    "import torch\n",
    "import torch.nn as nn\n",
    "import numpy as np\n",
    "from sklearn import datasets\n",
    "from sklearn.preprocessing import StandardScaler\n",
    "from sklearn.model_selection import train_test_split"
   ]
  },
  {
   "cell_type": "code",
   "execution_count": 50,
   "metadata": {},
   "outputs": [],
   "source": [
    "#Step0:Dataset\n",
    "\n",
    "#load a dataset from sklearn.datasets\n",
    "dataset = datasets.load_breast_cancer()\n",
    "\n",
    "#extract the data and target\n",
    "data, target = dataset.data, dataset.target\n",
    "\n",
    "#reshape the target to uniform datastructure\n",
    "target = np.resize(target, (data.shape[0],1)) #data shape is (569, 30), target shape should be (569, 1)\n",
    "\n",
    "#spilt the dataset into training set and test set(Note:data and targets should be spilt at the same time)\n",
    "train_data, test_data, train_target, test_target = train_test_split(data, target, test_size = 0.2, random_state = 1)\n",
    "\n",
    "#rescale the data(Note: do not rescale the target)\n",
    "rescale = StandardScaler()\n",
    "train_data = rescale.fit_transform(train_data)\n",
    "test_data = rescale.fit_transform(test_data)\n",
    "\n",
    "#change the datastructure from numpy to torch for model evaluation\n",
    "train_data = torch.from_numpy(train_data.astype(np.float32))\n",
    "train_target = torch.from_numpy(train_target.astype(np.float32))\n",
    "test_data = torch.from_numpy(test_data.astype(np.float32))\n",
    "test_target = torch.from_numpy(test_target.astype(np.float32))"
   ]
  },
  {
   "cell_type": "code",
   "execution_count": 51,
   "metadata": {},
   "outputs": [],
   "source": [
    "#Step1:Model\n",
    "\n",
    "class LogisticRegression(nn.Module):\n",
    "    def __init__(self, input_features):\n",
    "        super(LogisticRegression, self).__init__()\n",
    "        self.linear = nn.Linear(input_features, 1) #binary classification\n",
    "    \n",
    "    def forward(self, x):\n",
    "        return torch.sigmoid(self.linear(x))\n",
    "\n",
    "model = LogisticRegression(data.shape[1])"
   ]
  },
  {
   "cell_type": "code",
   "execution_count": 52,
   "metadata": {},
   "outputs": [],
   "source": [
    "#Step3:Loss and optimizer\n",
    "learning_rate = 0.001\n",
    "loss_function = nn.BCELoss()\n",
    "optimizer = torch.optim.Adam(model.parameters(), lr = learning_rate)"
   ]
  },
  {
   "cell_type": "code",
   "execution_count": 54,
   "metadata": {},
   "outputs": [
    {
     "name": "stdout",
     "output_type": "stream",
     "text": [
      "epoch: 10, loss: 0.527\n",
      "epoch: 20, loss: 0.477\n",
      "epoch: 30, loss: 0.436\n",
      "epoch: 40, loss: 0.402\n",
      "epoch: 50, loss: 0.374\n",
      "epoch: 60, loss: 0.350\n",
      "epoch: 70, loss: 0.330\n",
      "epoch: 80, loss: 0.312\n",
      "epoch: 90, loss: 0.297\n",
      "epoch: 100, loss: 0.283\n",
      "test accuracy:0.939\n"
     ]
    }
   ],
   "source": [
    "#Step4:Training loop\n",
    "num_epoch = 100\n",
    "for epoch in range (num_epoch):\n",
    "    #foward pass\n",
    "    target_predicted = model(train_data)\n",
    "    #calculate loss\n",
    "    loss = loss_function(target_predicted, train_target)\n",
    "    #backward pass, calculate the gradients\n",
    "    loss.backward()\n",
    "    #update weights and bias\n",
    "    optimizer.step()\n",
    "    #remember to reset the gradients\n",
    "    optimizer.zero_grad()\n",
    "    #print some information when training\n",
    "    if (epoch+1) % 10 == 0:\n",
    "        print(f'epoch: {epoch+1}, loss: {loss.item():.3f}')\n",
    "\n",
    "#test the training result(Note: use no_grad computation, we do not want to accumulate gradients when testing)\n",
    "with torch.no_grad():\n",
    "    Prediction = model(test_data)\n",
    "    #binarize output, because we want to see logistic result\n",
    "    Prediction = Prediction.round()\n",
    "    accuracy = Prediction.eq(test_target).sum() / float(test_target.shape[0])\n",
    "    print(f'test accuracy:{accuracy:.3f}')\n"
   ]
  }
 ],
 "metadata": {
  "interpreter": {
   "hash": "1f34a5bbbef19218a9b3b6792145ecf26538ebcfc8a2962317f017efbbe40c8a"
  },
  "kernelspec": {
   "display_name": "Python 3.6.13 ('torchsegmentation': conda)",
   "language": "python",
   "name": "python3"
  },
  "language_info": {
   "codemirror_mode": {
    "name": "ipython",
    "version": 3
   },
   "file_extension": ".py",
   "mimetype": "text/x-python",
   "name": "python",
   "nbconvert_exporter": "python",
   "pygments_lexer": "ipython3",
   "version": "3.6.13"
  },
  "orig_nbformat": 4
 },
 "nbformat": 4,
 "nbformat_minor": 2
}
