{
 "cells": [
  {
   "cell_type": "code",
   "execution_count": 4,
   "metadata": {},
   "outputs": [],
   "source": [
    "import torch\n",
    "from torch.utils.data import Dataset, DataLoader\n",
    "import numpy as np\n",
    "import math"
   ]
  },
  {
   "cell_type": "code",
   "execution_count": 5,
   "metadata": {},
   "outputs": [],
   "source": [
    "#Step0:Creat \"Dataset\"\n",
    "\n",
    "class WineDataset(Dataset):\n",
    "    def __init__(self):\n",
    "        wine_numpy = np.loadtxt('wine.csv', delimiter = \",\", dtype = np.float32, skiprows = 1)\n",
    "        self.samples = wine_numpy.shape[0]\n",
    "        #extract the features and classes of dataset\n",
    "        self.wine_features = wine_numpy[:, 1:]\n",
    "        self.wine_classes = wine_numpy[:, 0]\n",
    "        #transform to torch(Note:No need to specify datatype because is explained with loadtxt)\n",
    "        self.wine_features = torch.from_numpy(self.wine_features)\n",
    "        self.wine_classes = torch.from_numpy(self.wine_classes)\n",
    "\n",
    "    def __getitem__(self, index):\n",
    "        return self.wine_features[index], self.wine_classes[index]\n",
    "\n",
    "    def __len__(self):\n",
    "        return self.samples\n",
    "\n",
    "dataset = WineDataset()"
   ]
  },
  {
   "cell_type": "code",
   "execution_count": 6,
   "metadata": {},
   "outputs": [
    {
     "name": "stdout",
     "output_type": "stream",
     "text": [
      "torch.Size([4, 13])\n"
     ]
    }
   ],
   "source": [
    "#Step1:Setup DataLoader, DataIter, Data(Note:to control batch size and do shuffle, iter over all dataset)\n",
    "\n",
    "batch_size = 4\n",
    "#Load dataset to dataloader\n",
    "dataloader = DataLoader(dataset = dataset, shuffle = True, batch_size = batch_size, num_workers = 2)\n",
    "\n",
    "#The following step are used to test dataloader, actually seeing the data fetched\n",
    "#build iter (Note: also means that __iter__() function exist in dataloader class)\n",
    "dataiter = iter(dataloader) \n",
    "#use next() to fetch item in iter (Note: also means that next() function exist in dataloader class)\n",
    "data = dataiter.next() "
   ]
  },
  {
   "cell_type": "code",
   "execution_count": 7,
   "metadata": {},
   "outputs": [
    {
     "name": "stdout",
     "output_type": "stream",
     "text": [
      "epoch: 1, step: 5, feature_size: torch.Size([4, 13]), label size: torch.Size([4])\n",
      "epoch: 1, step: 10, feature_size: torch.Size([4, 13]), label size: torch.Size([4])\n",
      "epoch: 1, step: 15, feature_size: torch.Size([4, 13]), label size: torch.Size([4])\n",
      "epoch: 1, step: 20, feature_size: torch.Size([4, 13]), label size: torch.Size([4])\n",
      "epoch: 1, step: 25, feature_size: torch.Size([4, 13]), label size: torch.Size([4])\n",
      "epoch: 1, step: 30, feature_size: torch.Size([4, 13]), label size: torch.Size([4])\n",
      "epoch: 1, step: 35, feature_size: torch.Size([4, 13]), label size: torch.Size([4])\n",
      "epoch: 1, step: 40, feature_size: torch.Size([4, 13]), label size: torch.Size([4])\n",
      "epoch: 1, step: 45, feature_size: torch.Size([2, 13]), label size: torch.Size([2])\n",
      "epoch: 2, step: 5, feature_size: torch.Size([4, 13]), label size: torch.Size([4])\n",
      "epoch: 2, step: 10, feature_size: torch.Size([4, 13]), label size: torch.Size([4])\n",
      "epoch: 2, step: 15, feature_size: torch.Size([4, 13]), label size: torch.Size([4])\n",
      "epoch: 2, step: 20, feature_size: torch.Size([4, 13]), label size: torch.Size([4])\n",
      "epoch: 2, step: 25, feature_size: torch.Size([4, 13]), label size: torch.Size([4])\n",
      "epoch: 2, step: 30, feature_size: torch.Size([4, 13]), label size: torch.Size([4])\n",
      "epoch: 2, step: 35, feature_size: torch.Size([4, 13]), label size: torch.Size([4])\n",
      "epoch: 2, step: 40, feature_size: torch.Size([4, 13]), label size: torch.Size([4])\n",
      "epoch: 2, step: 45, feature_size: torch.Size([2, 13]), label size: torch.Size([2])\n"
     ]
    }
   ],
   "source": [
    "#Step2: Training Loop with only data\n",
    "\n",
    "#setup iteration parameters\n",
    "num_epoch = 2\n",
    "samples = len(dataset)\n",
    "#calculate batches loaded per epoch(Note: use ceil to ensure all samples are covered)\n",
    "batches_per_epoch = math.ceil(samples / batch_size) \n",
    "\n",
    "#training loop\n",
    "for epoch in range (num_epoch):\n",
    "    #enumerate() will read a list and return one index and one content\n",
    "    for index, (feature, label) in enumerate(dataloader):\n",
    "        if (index+1) % 5 == 0:\n",
    "            print(f'epoch: {epoch+1}, step: {index+1}, feature_size: {feature.shape}, label size: {label.shape}')\n"
   ]
  }
 ],
 "metadata": {
  "interpreter": {
   "hash": "1f34a5bbbef19218a9b3b6792145ecf26538ebcfc8a2962317f017efbbe40c8a"
  },
  "kernelspec": {
   "display_name": "Python 3.6.13 ('torchsegmentation': conda)",
   "language": "python",
   "name": "python3"
  },
  "language_info": {
   "codemirror_mode": {
    "name": "ipython",
    "version": 3
   },
   "file_extension": ".py",
   "mimetype": "text/x-python",
   "name": "python",
   "nbconvert_exporter": "python",
   "pygments_lexer": "ipython3",
   "version": "3.6.13"
  },
  "orig_nbformat": 4
 },
 "nbformat": 4,
 "nbformat_minor": 2
}
