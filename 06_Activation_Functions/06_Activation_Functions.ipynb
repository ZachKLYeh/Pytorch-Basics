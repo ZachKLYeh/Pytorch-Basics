{
 "cells": [
  {
   "cell_type": "code",
   "execution_count": 2,
   "metadata": {},
   "outputs": [],
   "source": [
    "import torch\n",
    "import torch.nn as nn"
   ]
  },
  {
   "cell_type": "code",
   "execution_count": 3,
   "metadata": {},
   "outputs": [],
   "source": [
    "#Build a model with activation functions\n",
    "\n",
    "class Model(nn.Module):\n",
    "    def __init__(self, input_size, hidden_size):\n",
    "        #Because we redefine a __init___ method\n",
    "        #We use Super class to  inheret __init__() parameters from parent class nn.Module\n",
    "        super(Model, self).__init__()\n",
    "        self.Linear1 = nn.Linear(input_size, hidden_size)\n",
    "        self.ReLU = nn.ReLU()\n",
    "        self.Linear2 = nn.Linear(hidden_size, 1)\n",
    "        self.sigmoid = nn.Sigmoid()\n",
    "    \n",
    "    def forward(self, x):\n",
    "        output = self.Linear1(x)\n",
    "        output = self.ReLU(output)\n",
    "        output = self.Linear2(output)\n",
    "        output = self.sigmoid(output)\n",
    "        return output\n",
    "\n",
    "model = Model(input_size=1, hidden_size=1)\n"
   ]
  }
 ],
 "metadata": {
  "interpreter": {
   "hash": "1f34a5bbbef19218a9b3b6792145ecf26538ebcfc8a2962317f017efbbe40c8a"
  },
  "kernelspec": {
   "display_name": "Python 3.6.13 ('torchsegmentation': conda)",
   "language": "python",
   "name": "python3"
  },
  "language_info": {
   "codemirror_mode": {
    "name": "ipython",
    "version": 3
   },
   "file_extension": ".py",
   "mimetype": "text/x-python",
   "name": "python",
   "nbconvert_exporter": "python",
   "pygments_lexer": "ipython3",
   "version": "3.6.13"
  },
  "orig_nbformat": 4
 },
 "nbformat": 4,
 "nbformat_minor": 2
}
