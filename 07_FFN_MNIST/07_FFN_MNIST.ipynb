{
 "cells": [
  {
   "cell_type": "code",
   "execution_count": 2,
   "metadata": {},
   "outputs": [],
   "source": [
    "import idx2numpy\n",
    "import numpy as np\n",
    "import torch\n",
    "import torch.nn as nn\n",
    "from torch.utils.data import Dataset, DataLoader\n",
    "import torchvision.transforms as transforms\n",
    "import matplotlib.pyplot as plt"
   ]
  },
  {
   "cell_type": "code",
   "execution_count": 3,
   "metadata": {},
   "outputs": [],
   "source": [
    "#Set device\n",
    "#if cuda is available then use cuda, else use cpu\n",
    "device = torch.device('cuda' if torch.cuda.is_available() else 'cpu')"
   ]
  },
  {
   "cell_type": "code",
   "execution_count": 4,
   "metadata": {},
   "outputs": [],
   "source": [
    "#declare parameters\n",
    "\n",
    "input_size = 784 #image size = 28x28 --flatten 784\n",
    "hidden_size = 1000\n",
    "n_classes = 10\n",
    "n_epoch = 2\n",
    "batch_size = 100\n",
    "learning_rate = 0.001"
   ]
  },
  {
   "cell_type": "code",
   "execution_count": 5,
   "metadata": {},
   "outputs": [],
   "source": [
    "#unzip dataset to test_images, test_labels, train_images, train_labels as numpy\n",
    "\n",
    "file = r'/home/zacharyyeh/Datasets/MNIST/t10k-images.idx3-ubyte'\n",
    "test_images = idx2numpy.convert_from_file(file)\n",
    "file = r'/home/zacharyyeh/Datasets/MNIST/t10k-labels.idx1-ubyte'\n",
    "test_labels = idx2numpy.convert_from_file(file)\n",
    "file = r'/home/zacharyyeh/Datasets/MNIST/train-images.idx3-ubyte'\n",
    "train_images = idx2numpy.convert_from_file(file)\n",
    "file = r'/home/zacharyyeh/Datasets/MNIST/train-labels.idx1-ubyte'\n",
    "train_labels = idx2numpy.convert_from_file(file)"
   ]
  },
  {
   "cell_type": "code",
   "execution_count": 6,
   "metadata": {},
   "outputs": [],
   "source": [
    "#Build children class TrainSet, TestSet from parent class Dataset \n",
    "\n",
    "class TrainSet(Dataset):\n",
    "    def __init__(self, transform = None):\n",
    "        self.train_images = train_images\n",
    "        self.train_labels = train_labels\n",
    "        self.n_samples = train_images.shape[0]\n",
    "        #Important!!!! add a channel to images [28, 28] to [1, 28, 28] so that i can be seen as a image\n",
    "        self.train_images = np.resize(self.train_images, (self.n_samples, 1, 28,28))\n",
    "        self.transform = transform\n",
    "\n",
    "    def __getitem__(self, index):\n",
    "        output = self.train_images[index], self.train_labels[index]\n",
    "        if self.transform:\n",
    "            output = self.transform(output)\n",
    "        return output\n",
    "\n",
    "    def __len__(self):\n",
    "        return self.n_samples\n",
    "\n",
    "class TestSet(Dataset):\n",
    "    def __init__(self, transform = None):\n",
    "        self.test_images = test_images\n",
    "        self.test_labels = test_labels\n",
    "        self.n_samples = test_images.shape[0]\n",
    "        self.test_images = np.resize(self.test_images, (self.n_samples, 1, 28,28))\n",
    "        self.transform = transform\n",
    "\n",
    "    def __getitem__(self, index):\n",
    "        output = self.test_images[index], self.test_labels[index]\n",
    "        if self.transform:\n",
    "            output = self.transform(output)\n",
    "        return output\n",
    "\n",
    "    def __len__(self):\n",
    "        return self.n_samples\n",
    "\n",
    "#Make a Transform from numpy to tensor, Note: features and labels should be in differet dtype\n",
    "\n",
    "class TensorTransform:\n",
    "    def __call__(self, input):\n",
    "        features, labels = input\n",
    "        #features must be float type for foward pass(gradient calc), label tensor must be int(one-hot encoded)\n",
    "        # if we use from_numpy, it thus inheret the dtype of desinated numpy, in this case, integer\n",
    "        return torch.FloatTensor(features), torch.tensor(labels, dtype = int)\n",
    "\n",
    "#Make dataset with transform included\n",
    "\n",
    "train_dataset = TrainSet(transform = TensorTransform())\n",
    "test_dataset = TestSet(transform = TensorTransform())\n",
    "\n",
    "#Make dataloader\n",
    "\n",
    "train_loader = DataLoader(dataset = train_dataset, batch_size = batch_size, shuffle = True)\n",
    "test_loader = DataLoader(dataset = test_dataset, batch_size = batch_size, shuffle = False)"
   ]
  },
  {
   "cell_type": "code",
   "execution_count": 7,
   "metadata": {},
   "outputs": [
    {
     "name": "stdout",
     "output_type": "stream",
     "text": [
      "(2,)\n",
      "torch.Size([])\n",
      "torch.Size([1])\n"
     ]
    }
   ],
   "source": [
    "#Note:tensor and FloatTensor Treat arrays different, FloatTensor will force a dimension\n",
    "a = np.array([1,2])\n",
    "b = torch.tensor(a[0])\n",
    "c = torch.FloatTensor(a[0])\n",
    "print(a.shape)\n",
    "print(b.shape)\n",
    "print(c.shape)"
   ]
  },
  {
   "cell_type": "code",
   "execution_count": 8,
   "metadata": {},
   "outputs": [
    {
     "name": "stdout",
     "output_type": "stream",
     "text": [
      "<class 'torch.Tensor'> torch.Size([100])\n"
     ]
    },
    {
     "data": {
      "image/png": "[encoded data removed]",
      "text/plain": [
       "<Figure size 432x288 with 6 Axes>"
      ]
     },
     "metadata": {
      "needs_background": "light"
     },
     "output_type": "display_data"
    }
   ],
   "source": [
    "#Show some examples to examinate dataloader\n",
    "\n",
    "examples = iter(test_loader)\n",
    "example_data, example_targets = examples.next()\n",
    "print(type(example_targets), example_targets.shape)\n",
    "for i in range(6):\n",
    "    plt.subplot(2,3,i+1)\n",
    "    plt.imshow(example_data[i][0], cmap='gray')\n",
    "plt.show()"
   ]
  },
  {
   "cell_type": "code",
   "execution_count": 9,
   "metadata": {},
   "outputs": [
    {
     "name": "stdout",
     "output_type": "stream",
     "text": [
      "Model(\n",
      "  (Linear1): Linear(in_features=784, out_features=1000, bias=True)\n",
      "  (ReLU): ReLU()\n",
      "  (Linear2): Linear(in_features=1000, out_features=10, bias=True)\n",
      ")\n"
     ]
    }
   ],
   "source": [
    "#Build a Fully connected Neural Network\n",
    "\n",
    "class Model(nn.Module):\n",
    "    def __init__(self, input_size, hidden_size, n_classes):\n",
    "        super(Model, self).__init__()\n",
    "        self.Linear1 = nn.Linear(input_size, hidden_size)\n",
    "        self.ReLU = nn.ReLU()\n",
    "        self.Linear2 = nn.Linear(hidden_size, n_classes)\n",
    "        #we don't have to do softmax here, because we are use CrossEntropy, which softmax is included\n",
    "    def forward(self, x):\n",
    "        output = self.Linear1(x)\n",
    "        output = self.ReLU(output)\n",
    "        output = self.Linear2(output)\n",
    "        return output\n",
    "\n",
    "model = Model(input_size = input_size, hidden_size = hidden_size, n_classes = n_classes).to(device)\n",
    "\n",
    "print(model)"
   ]
  },
  {
   "cell_type": "code",
   "execution_count": 10,
   "metadata": {},
   "outputs": [],
   "source": [
    "#Define loss function and optimizer\n",
    "\n",
    "criterion = nn.CrossEntropyLoss()\n",
    "optimizer = torch.optim.Adam(model.parameters(), lr = learning_rate)"
   ]
  },
  {
   "cell_type": "code",
   "execution_count": 11,
   "metadata": {},
   "outputs": [
    {
     "name": "stdout",
     "output_type": "stream",
     "text": [
      "Start training...\n",
      "epoch: 1/2, step: 100/600, loss: 0.170\n",
      "epoch: 1/2, step: 200/600, loss: 0.170\n",
      "epoch: 1/2, step: 300/600, loss: 0.148\n",
      "epoch: 1/2, step: 400/600, loss: 0.106\n",
      "epoch: 1/2, step: 500/600, loss: 0.047\n",
      "epoch: 1/2, step: 600/600, loss: 0.131\n",
      "epoch: 2/2, step: 100/600, loss: 0.053\n",
      "epoch: 2/2, step: 200/600, loss: 0.112\n",
      "epoch: 2/2, step: 300/600, loss: 0.237\n",
      "epoch: 2/2, step: 400/600, loss: 0.173\n",
      "epoch: 2/2, step: 500/600, loss: 0.180\n",
      "epoch: 2/2, step: 600/600, loss: 0.087\n",
      "Training is completed\n"
     ]
    }
   ],
   "source": [
    "#Make Training Loop\n",
    "\n",
    "steps = len(train_loader)\n",
    "\n",
    "print('Start training...')\n",
    "\n",
    "for epoch in range(n_epoch):\n",
    "    for i, (images, labels) in enumerate(train_loader):\n",
    "        #first, we flatten our image to fit model input, and move it to GPU\n",
    "        #[100, 1, 28, 28] to [100, 784]\n",
    "        #reshape(dimention, desinated size)\n",
    "        #reshape function change array to dimention = dimention to fit the desinated size\n",
    "        images = images.reshape(-1, 28*28).to(device)\n",
    "        labels = labels.to(device)\n",
    "        #forward pass\n",
    "        pred_labels = model(images)\n",
    "        loss = criterion(pred_labels, labels)\n",
    "\n",
    "        #backward pass\n",
    "        loss.backward()\n",
    "\n",
    "        #update gradients\n",
    "        optimizer.step()\n",
    "        optimizer.zero_grad()\n",
    "\n",
    "        #print information in a epoch\n",
    "        if (i+1) % 100 == 0:\n",
    "            print(f'epoch: {epoch+1}/{n_epoch}, step: {(i+1)}/{steps}, loss: {loss.item():.3f}')\n",
    "\n",
    "            \n",
    "print('Training is completed')"
   ]
  },
  {
   "cell_type": "code",
   "execution_count": 12,
   "metadata": {},
   "outputs": [
    {
     "name": "stdout",
     "output_type": "stream",
     "text": [
      "model accuracy: 0.945\n"
     ]
    }
   ],
   "source": [
    "#Test the model\n",
    "\n",
    "#Note: In test case, we do not want to calculate the gradients\n",
    "with torch.no_grad():\n",
    "    n_correct = 0\n",
    "    n_samples = 0\n",
    "    #you can also use for i, (images, labels) in enumerate(test_loader):\n",
    "    #but now we don't care batch imformation, simple use this\n",
    "    for images, labels in test_loader:\n",
    "        #flatten\n",
    "        images = images.reshape(-1, 28*28).to(device)\n",
    "        labels = labels.to(device)\n",
    "        output = model(images)\n",
    "        #the output is a probability distribution. We want to tranform them into integer(predicted state)\n",
    "        #torch.max(tensor, dimention) will return [max tensor value, index] in a dimention of a tensor\n",
    "        #here we only want the index, not the linear output(float), actually it is the predicted number\n",
    "        #Note: _ here is not probability because we didn't apply softmax\n",
    "        _, predicted = torch.max(output, 1)\n",
    "        n_samples = n_samples + labels.shape[0]\n",
    "        #Note (predicted == labels) is still a tensor with one element. We need to use item() to get a value\n",
    "        #then we can compute divition\n",
    "        n_correct = n_correct + (predicted == labels).sum().item()\n",
    "\n",
    "acc = n_correct / n_samples\n",
    "print(f'model accuracy: {acc:.3f}')"
   ]
  }
 ],
 "metadata": {
  "interpreter": {
   "hash": "1f34a5bbbef19218a9b3b6792145ecf26538ebcfc8a2962317f017efbbe40c8a"
  },
  "kernelspec": {
   "display_name": "Python 3.6.13 ('torchsegmentation': conda)",
   "language": "python",
   "name": "python3"
  },
  "language_info": {
   "codemirror_mode": {
    "name": "ipython",
    "version": 3
   },
   "file_extension": ".py",
   "mimetype": "text/x-python",
   "name": "python",
   "nbconvert_exporter": "python",
   "pygments_lexer": "ipython3",
   "version": "3.6.13"
  },
  "orig_nbformat": 4
 },
 "nbformat": 4,
 "nbformat_minor": 2
}
