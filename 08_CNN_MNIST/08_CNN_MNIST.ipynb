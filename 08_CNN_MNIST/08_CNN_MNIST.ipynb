{
 "cells": [
  {
   "cell_type": "code",
   "execution_count": 1,
   "metadata": {},
   "outputs": [],
   "source": [
    "import idx2numpy\n",
    "import numpy as np\n",
    "import torch\n",
    "import torch.nn as nn\n",
    "from torch.utils.data import Dataset, DataLoader\n",
    "import torchvision.transforms as transforms\n",
    "import matplotlib.pyplot as plt"
   ]
  },
  {
   "cell_type": "code",
   "execution_count": 2,
   "metadata": {},
   "outputs": [],
   "source": [
    "#Set device\n",
    "#if cuda is available then use cuda, else use cpu\n",
    "device = torch.device('cuda' if torch.cuda.is_available() else 'cpu')"
   ]
  },
  {
   "cell_type": "code",
   "execution_count": 3,
   "metadata": {},
   "outputs": [],
   "source": [
    "#declare parameters\n",
    "\n",
    "input_size = 784 #image size = 28x28 --flatten 784\n",
    "n_classes = 10\n",
    "n_epoch = 2\n",
    "batch_size = 100\n",
    "learning_rate = 0.001"
   ]
  },
  {
   "cell_type": "code",
   "execution_count": 4,
   "metadata": {},
   "outputs": [],
   "source": [
    "#unzip dataset to test_images, test_labels, train_images, train_labels as numpy\n",
    "\n",
    "file = r'/home/zacharyyeh/Datasets/MNIST/t10k-images.idx3-ubyte'\n",
    "test_images = idx2numpy.convert_from_file(file)\n",
    "file = r'/home/zacharyyeh/Datasets/MNIST/t10k-labels.idx1-ubyte'\n",
    "test_labels = idx2numpy.convert_from_file(file)\n",
    "file = r'/home/zacharyyeh/Datasets/MNIST/train-images.idx3-ubyte'\n",
    "train_images = idx2numpy.convert_from_file(file)\n",
    "file = r'/home/zacharyyeh/Datasets/MNIST/train-labels.idx1-ubyte'\n",
    "train_labels = idx2numpy.convert_from_file(file)"
   ]
  },
  {
   "cell_type": "code",
   "execution_count": 5,
   "metadata": {},
   "outputs": [],
   "source": [
    "#Build children class TrainSet, TestSet from parent class Dataset \n",
    "\n",
    "class TrainSet(Dataset):\n",
    "    def __init__(self, transform = None):\n",
    "        self.train_images = train_images\n",
    "        self.train_labels = train_labels\n",
    "        self.n_samples = train_images.shape[0]\n",
    "        #Important!!!! add a channel to images [28, 28] to [1, 28, 28] so that i can be seen as a image\n",
    "        self.train_images = np.resize(self.train_images, (self.n_samples, 1, 28,28))\n",
    "        #Transpouse to fit ToTensor input form!!!! [samples c h w] to [samples h w c]\n",
    "        self.train_images = np.transpose(self.train_images, (0, 2, 3, 1))\n",
    "        self.transform = transform\n",
    "\n",
    "    def __getitem__(self, index):\n",
    "        img, target = self.train_images[index], self.train_labels[index]\n",
    "        if self.transform:\n",
    "            img = self.transform(img)\n",
    "        return img, target\n",
    "\n",
    "    def __len__(self):\n",
    "        return self.n_samples\n",
    "\n",
    "class TestSet(Dataset):\n",
    "    def __init__(self, transform = None):\n",
    "        self.test_images = test_images\n",
    "        self.test_labels = test_labels\n",
    "        self.n_samples = test_images.shape[0]\n",
    "        self.test_images = np.resize(self.test_images, (self.n_samples, 1, 28,28))\n",
    "        self.test_images = np.transpose(self.test_images, (0, 2, 3, 1))\n",
    "        self.transform = transform\n",
    "\n",
    "    def __getitem__(self, index):\n",
    "        img, target = self.test_images[index], self.test_labels[index]\n",
    "        if self.transform:\n",
    "            img = self.transform(img)\n",
    "        return img, target\n",
    "\n",
    "    def __len__(self):\n",
    "        return self.n_samples\n",
    "\n",
    "\n",
    "#Make dataset with transform included\n",
    "\n",
    "composed = transforms.Compose([transforms.ToTensor(), transforms.Normalize(mean = (0.5,), std = (0.5,))])\n",
    "\n",
    "train_dataset = TrainSet(transform = composed)\n",
    "test_dataset = TestSet(transform = composed)\n",
    "\n",
    "#Make dataloader\n",
    "#Note: DataLoader antomatically transform data from numpy to tensor\n",
    "#But we still do ToTensor transform to Normalize(normalize require tensor dtype)\n",
    "train_loader = DataLoader(dataset = train_dataset, batch_size = batch_size, shuffle = True)\n",
    "test_loader = DataLoader(dataset = test_dataset, batch_size = 10, shuffle = False)"
   ]
  },
  {
   "cell_type": "code",
   "execution_count": 6,
   "metadata": {},
   "outputs": [
    {
     "name": "stdout",
     "output_type": "stream",
     "text": [
      "torch.Size([10, 1, 28, 28])\n"
     ]
    },
    {
     "data": {
      "image/png": "[encoded data removed]",
      "text/plain": [
       "<Figure size 432x288 with 6 Axes>"
      ]
     },
     "metadata": {
      "needs_background": "light"
     },
     "output_type": "display_data"
    }
   ],
   "source": [
    "#Show some examples to examinate dataloader\n",
    "\n",
    "examples = iter(test_loader)\n",
    "example_data, example_targets = examples.next()\n",
    "print(example_data.shape)\n",
    "for i in range(6):\n",
    "    plt.subplot(2,3,i+1)\n",
    "    plt.imshow(example_data[i][0] , cmap='gray')\n",
    "plt.show()"
   ]
  },
  {
   "cell_type": "code",
   "execution_count": 7,
   "metadata": {},
   "outputs": [
    {
     "name": "stdout",
     "output_type": "stream",
     "text": [
      "Model(\n",
      "  (Conv): Conv2d(1, 10, kernel_size=(3, 3), stride=(1, 1), padding=(1, 1))\n",
      "  (ReLU): ReLU()\n",
      "  (MaxPool): MaxPool2d(kernel_size=2, stride=2, padding=0, dilation=1, ceil_mode=False)\n",
      "  (Linear): Linear(in_features=1960, out_features=10, bias=True)\n",
      ")\n"
     ]
    }
   ],
   "source": [
    "#Build a Convolutional Neural Network\n",
    "\n",
    "class Model(nn.Module):\n",
    "    def __init__(self):\n",
    "        super(Model, self).__init__()\n",
    "        self.Conv = nn.Conv2d(in_channels =1, out_channels = 10, kernel_size = 3, stride = 1, padding = 1)\n",
    "        self.ReLU = nn.ReLU()\n",
    "        self.MaxPool = nn.MaxPool2d(2)\n",
    "        self.Linear = nn.Linear(in_features = 1960 , out_features= 10)\n",
    "    \n",
    "    def forward(self, x):\n",
    "        output = self.Conv(x) #input(batch_size ,1, 28, 28), output(batch_size, 10, 28, 28)\n",
    "        output = self.ReLU(output)\n",
    "        output = self.MaxPool(output) #input(batch_size, 10, 28, 28), output(batch_size, 10, 14, 14)\n",
    "        #flatten input(batch_size, 10, 14, 14), output(batch_size, 1960)\n",
    "        output = output.view(-1, 1960)\n",
    "        #Linear input(bath_size, 1960) output(batch_size, 10)\n",
    "        output = self.Linear(output)\n",
    "        #we don't have to do softmax here, because we are use CrossEntropy, which softmax is included\n",
    "        return output\n",
    "\n",
    "model = Model().to(device)\n",
    "print(model)"
   ]
  },
  {
   "cell_type": "code",
   "execution_count": 8,
   "metadata": {},
   "outputs": [],
   "source": [
    "#Define loss function and optimizer\n",
    "\n",
    "criterion = nn.CrossEntropyLoss()\n",
    "optimizer = torch.optim.Adam(model.parameters(), lr = learning_rate)"
   ]
  },
  {
   "cell_type": "code",
   "execution_count": 9,
   "metadata": {},
   "outputs": [
    {
     "name": "stdout",
     "output_type": "stream",
     "text": [
      "Start training...\n",
      "epoch: 1/2, step: 100/600, loss: 0.400\n",
      "epoch: 1/2, step: 200/600, loss: 0.245\n",
      "epoch: 1/2, step: 300/600, loss: 0.190\n",
      "epoch: 1/2, step: 400/600, loss: 0.218\n",
      "epoch: 1/2, step: 500/600, loss: 0.090\n",
      "epoch: 1/2, step: 600/600, loss: 0.163\n",
      "epoch: 2/2, step: 100/600, loss: 0.131\n",
      "epoch: 2/2, step: 200/600, loss: 0.100\n",
      "epoch: 2/2, step: 300/600, loss: 0.071\n",
      "epoch: 2/2, step: 400/600, loss: 0.119\n",
      "epoch: 2/2, step: 500/600, loss: 0.074\n",
      "epoch: 2/2, step: 600/600, loss: 0.095\n",
      "Training is completed\n"
     ]
    }
   ],
   "source": [
    "#Make Training Loop\n",
    "\n",
    "steps = len(train_loader)\n",
    "\n",
    "print('Start training...')\n",
    "\n",
    "for epoch in range(n_epoch):\n",
    "    for i, (images, labels) in enumerate(train_loader):\n",
    "        images = images.to(device)\n",
    "        #Note: Labels are now dtype torch.uint8, should be change to torch.long for CrossEntropyLoss\n",
    "        labels = labels.type(torch.long)\n",
    "        labels = labels.to(device)\n",
    "        #forward pass\n",
    "        pred_labels = model(images)\n",
    "        loss = criterion(pred_labels, labels)\n",
    "\n",
    "        #backward pass\n",
    "        loss.backward()\n",
    "\n",
    "        #update gradients\n",
    "        optimizer.step()\n",
    "        optimizer.zero_grad()\n",
    "\n",
    "        #print information in a epoch\n",
    "        if (i+1) % 100 == 0:\n",
    "            print(f'epoch: {epoch+1}/{n_epoch}, step: {(i+1)}/{steps}, loss: {loss.item():.3f}')\n",
    "\n",
    "            \n",
    "print('Training is completed')"
   ]
  },
  {
   "cell_type": "code",
   "execution_count": 10,
   "metadata": {},
   "outputs": [
    {
     "name": "stdout",
     "output_type": "stream",
     "text": [
      "model accuracy: 0.972\n"
     ]
    }
   ],
   "source": [
    "#Test the model\n",
    "\n",
    "#Note: In test case, we do not want to calculate the gradients\n",
    "with torch.no_grad():\n",
    "    n_correct = 0\n",
    "    n_samples = 0\n",
    "    #you can also use for i, (images, labels) in enumerate(test_loader):\n",
    "    #but now we don't care batch imformation, simple use this\n",
    "    for images, labels in test_loader:\n",
    "        #flatten\n",
    "        images = images.to(device)\n",
    "        labels = labels.to(device)\n",
    "        output = model(images)\n",
    "        #the output is a probability distribution. We want to tranform them into integer(predicted state)\n",
    "        #torch.max(tensor, dimention) will return [max tensor value, index] in a dimention of a tensor\n",
    "        #here we only want the index, not the linear output(float), actually it is the predicted number\n",
    "        #Note: _ here is not probability because we didn't apply softmax\n",
    "        _, predicted = torch.max(output, 1)\n",
    "        n_samples = n_samples + labels.shape[0]\n",
    "        #Note (predicted == labels) is still a tensor with one element. We need to use item() to get a value\n",
    "        #then we can compute divition\n",
    "        n_correct = n_correct + (predicted == labels).sum().item()\n",
    "\n",
    "acc = n_correct / n_samples\n",
    "print(f'model accuracy: {acc:.3f}')"
   ]
  },
  {
   "cell_type": "code",
   "execution_count": 11,
   "metadata": {},
   "outputs": [
    {
     "name": "stdout",
     "output_type": "stream",
     "text": [
      "predicted labels:\n",
      " [7 2 1 0 4 1 4 9 6 9]\n",
      "actual labels:\n",
      " [7 2 1 0 4 1 4 9 5 9]\n"
     ]
    }
   ],
   "source": [
    "#See some predictions of the model\n",
    "\n",
    "with torch.no_grad():\n",
    "    examples = iter(test_loader)\n",
    "    data, actual_labels = examples.next()\n",
    "    data = data.to(device)\n",
    "    predicted_labels = model(data)\n",
    "    _, predicted_labels = torch.max(predicted_labels, 1)\n",
    "\n",
    "print('predicted labels:\\n', predicted_labels.cpu().numpy())\n",
    "print('actual labels:\\n', actual_labels.numpy().squeeze())\n",
    "\n"
   ]
  }
 ],
 "metadata": {
  "interpreter": {
   "hash": "1f34a5bbbef19218a9b3b6792145ecf26538ebcfc8a2962317f017efbbe40c8a"
  },
  "kernelspec": {
   "display_name": "Python 3.6.13 ('torchsegmentation': conda)",
   "language": "python",
   "name": "python3"
  },
  "language_info": {
   "codemirror_mode": {
    "name": "ipython",
    "version": 3
   },
   "file_extension": ".py",
   "mimetype": "text/x-python",
   "name": "python",
   "nbconvert_exporter": "python",
   "pygments_lexer": "ipython3",
   "version": "3.6.13"
  },
  "orig_nbformat": 4
 },
 "nbformat": 4,
 "nbformat_minor": 2
}
